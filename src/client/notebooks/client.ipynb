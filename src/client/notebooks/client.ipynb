{
 "cells": [
  {
   "cell_type": "code",
   "execution_count": 1,
   "id": "49ef282a-c5c0-4d50-983d-74987966d954",
   "metadata": {},
   "outputs": [],
   "source": [
    "import os\n",
    "import json\n",
    "import time\n",
    "import random\n",
    "import requests\n",
    "import pprint\n",
    "\n",
    "import numpy as np\n",
    "import pandas as pd\n",
    "\n",
    "from PIL import Image\n",
    "from ipyplot import plot_images\n",
    "from google.cloud import storage\n",
    "import cv2\n",
    "\n",
    "API_ENDPOINT = f'http://{os.getenv(\"API_HOST\")}:5000'\n",
    "PROJECT_ID = \"tcc-lucas-pierre\"\n",
    "BUCKET_NAME = \"tcc-clothes\""
   ]
  },
  {
   "cell_type": "code",
   "execution_count": 2,
   "id": "d91f13da-badc-4690-a9e3-288d86350b3f",
   "metadata": {},
   "outputs": [],
   "source": [
    "performed_tasks = {}\n",
    "\n",
    "\n",
    "def perform_task(params, endpoint):\n",
    "    api_response = requests.post(f\"{API_ENDPOINT}/{endpoint}\", json=params).json()\n",
    "    task_id = api_response[\"task_id\"]\n",
    "\n",
    "    status = \"PENDING\"\n",
    "    print(\"Processing...\")\n",
    "    while status == \"PENDING\":\n",
    "        time.sleep(3)\n",
    "        response = requests.get(f\"{API_ENDPOINT}/task/{task_id}\").json()\n",
    "        status = response[\"status\"]\n",
    "        print(status)\n",
    "\n",
    "    performed_tasks[task_id] = {\n",
    "        \"params\": params,\n",
    "        \"status\": status,\n",
    "    }\n",
    "\n",
    "    if status != \"SUCCESS\":\n",
    "        raise Exception(response)\n",
    "    else:\n",
    "        print(\"Task complete!\")\n",
    "\n",
    "    return task_id"
   ]
  },
  {
   "cell_type": "code",
   "execution_count": 3,
   "id": "c979feec-2182-4aa7-a8ad-11321c815973",
   "metadata": {},
   "outputs": [],
   "source": [
    "from google.cloud import storage\n",
    "from io import BytesIO\n",
    "from PIL import Image\n",
    "\n",
    "\n",
    "def download_blob_into_memory(blob_name):\n",
    "    \"\"\"Downloads a blob into memory.\"\"\"\n",
    "    storage_client = storage.Client()\n",
    "\n",
    "    bucket = storage_client.bucket(BUCKET_NAME)\n",
    "\n",
    "    blob = bucket.blob(blob_name)\n",
    "    contents = blob.download_as_bytes()\n",
    "\n",
    "    return contents\n",
    "\n",
    "def draw_images(items, source_folder, sample=3):\n",
    "    sample_items = random.sample(items, sample)\n",
    "\n",
    "    images = []\n",
    "    for item in sample_items:\n",
    "        img_encoded = download_blob_into_memory(\n",
    "            f'{source_folder}/{item[\"image_id\"]}.jpg'\n",
    "        )\n",
    "        nparr = np.frombuffer(img_encoded, np.byte)\n",
    "        image = cv2.imdecode(nparr, cv2.IMREAD_ANYCOLOR)\n",
    "        images.append(image)\n",
    "    plot_images(\n",
    "        images,\n",
    "        labels=[item[\"image_id\"] for item in sample_items],\n",
    "        custom_texts=[pprint.pformat(item) for item in sample_items],\n",
    "        zoom_scale=1.0,\n",
    "    )"
   ]
  },
  {
   "cell_type": "code",
   "execution_count": 4,
   "id": "139ce94e-fd80-46dd-8bd1-dde8d7c140d9",
   "metadata": {},
   "outputs": [
    {
     "name": "stdout",
     "output_type": "stream",
     "text": [
      "Processing...\n",
      "PENDING\n",
      "PENDING\n",
      "PENDING\n",
      "PENDING\n",
      "PENDING\n",
      "PENDING\n",
      "PENDING\n",
      "PENDING\n",
      "PENDING\n",
      "PENDING\n",
      "PENDING\n",
      "SUCCESS\n",
      "Task complete!\n"
     ]
    }
   ],
   "source": [
    "LIMIT = 10\n",
    "YEAR = 2012\n",
    "\n",
    "payload = {\n",
    "    \"gender\": \"Men\",\n",
    "    \"sub_category\": \"Shoes\",\n",
    "    \"start_year\": YEAR,\n",
    "    \"limit\": LIMIT,\n",
    "    \"augmentation_config\": {\n",
    "        \"albumentation\": {\n",
    "            \"input_image\": {\"width\": 60, \"height\": 80},\n",
    "            \"cropping\": {\"height\": {\"min\": 10, \"max\": 70}},\n",
    "            \"resize\": {\"width\": 256, \"height\": 256},\n",
    "        }\n",
    "    },\n",
    "}\n",
    "\n",
    "task_id = perform_task(payload, \"filter\")"
   ]
  },
  {
   "cell_type": "code",
   "execution_count": 5,
   "id": "3e35a9a6-4dac-4657-a974-ccba9c581545",
   "metadata": {},
   "outputs": [
    {
     "ename": "KeyboardInterrupt",
     "evalue": "",
     "output_type": "error",
     "traceback": [
      "\u001b[0;31m---------------------------------------------------------------------------\u001b[0m",
      "\u001b[0;31mKeyboardInterrupt\u001b[0m                         Traceback (most recent call last)",
      "Cell \u001b[0;32mIn [5], line 2\u001b[0m\n\u001b[1;32m      1\u001b[0m bucket_file \u001b[38;5;241m=\u001b[39m \u001b[38;5;124m\"\u001b[39m\u001b[38;5;124mfashion-tasks/\u001b[39m\u001b[38;5;124m\"\u001b[39m \u001b[38;5;241m+\u001b[39m task_id \u001b[38;5;241m+\u001b[39m \u001b[38;5;124m\"\u001b[39m\u001b[38;5;124m/metadata.json\u001b[39m\u001b[38;5;124m\"\u001b[39m\n\u001b[0;32m----> 2\u001b[0m content \u001b[38;5;241m=\u001b[39m download_blob_into_memory(bucket_file)\n\u001b[1;32m      3\u001b[0m metadata \u001b[38;5;241m=\u001b[39m json\u001b[38;5;241m.\u001b[39mloads(content)\n\u001b[1;32m      4\u001b[0m draw_images(metadata, \u001b[38;5;124mf\u001b[39m\u001b[38;5;124m\"\u001b[39m\u001b[38;5;124mfashion-tasks/\u001b[39m\u001b[38;5;132;01m{\u001b[39;00mtask_id\u001b[38;5;132;01m}\u001b[39;00m\u001b[38;5;124m/augmentation\u001b[39m\u001b[38;5;124m\"\u001b[39m, sample\u001b[38;5;241m=\u001b[39m\u001b[38;5;241m1\u001b[39m)\n",
      "Cell \u001b[0;32mIn [3], line 13\u001b[0m, in \u001b[0;36mdownload_blob_into_memory\u001b[0;34m(blob_name)\u001b[0m\n\u001b[1;32m     10\u001b[0m bucket \u001b[38;5;241m=\u001b[39m storage_client\u001b[38;5;241m.\u001b[39mbucket(BUCKET_NAME)\n\u001b[1;32m     12\u001b[0m blob \u001b[38;5;241m=\u001b[39m bucket\u001b[38;5;241m.\u001b[39mblob(blob_name)\n\u001b[0;32m---> 13\u001b[0m contents \u001b[38;5;241m=\u001b[39m \u001b[43mblob\u001b[49m\u001b[38;5;241;43m.\u001b[39;49m\u001b[43mdownload_as_bytes\u001b[49m\u001b[43m(\u001b[49m\u001b[43m)\u001b[49m\n\u001b[1;32m     15\u001b[0m \u001b[38;5;28;01mreturn\u001b[39;00m contents\n",
      "File \u001b[0;32m/opt/conda/lib/python3.10/site-packages/google/cloud/storage/blob.py:1401\u001b[0m, in \u001b[0;36mBlob.download_as_bytes\u001b[0;34m(self, client, start, end, raw_download, if_etag_match, if_etag_not_match, if_generation_match, if_generation_not_match, if_metageneration_match, if_metageneration_not_match, timeout, checksum, retry)\u001b[0m\n\u001b[1;32m   1399\u001b[0m client \u001b[38;5;241m=\u001b[39m \u001b[38;5;28mself\u001b[39m\u001b[38;5;241m.\u001b[39m_require_client(client)\n\u001b[1;32m   1400\u001b[0m string_buffer \u001b[38;5;241m=\u001b[39m BytesIO()\n\u001b[0;32m-> 1401\u001b[0m \u001b[43mclient\u001b[49m\u001b[38;5;241;43m.\u001b[39;49m\u001b[43mdownload_blob_to_file\u001b[49m\u001b[43m(\u001b[49m\n\u001b[1;32m   1402\u001b[0m \u001b[43m    \u001b[49m\u001b[38;5;28;43mself\u001b[39;49m\u001b[43m,\u001b[49m\n\u001b[1;32m   1403\u001b[0m \u001b[43m    \u001b[49m\u001b[43mstring_buffer\u001b[49m\u001b[43m,\u001b[49m\n\u001b[1;32m   1404\u001b[0m \u001b[43m    \u001b[49m\u001b[43mstart\u001b[49m\u001b[38;5;241;43m=\u001b[39;49m\u001b[43mstart\u001b[49m\u001b[43m,\u001b[49m\n\u001b[1;32m   1405\u001b[0m \u001b[43m    \u001b[49m\u001b[43mend\u001b[49m\u001b[38;5;241;43m=\u001b[39;49m\u001b[43mend\u001b[49m\u001b[43m,\u001b[49m\n\u001b[1;32m   1406\u001b[0m \u001b[43m    \u001b[49m\u001b[43mraw_download\u001b[49m\u001b[38;5;241;43m=\u001b[39;49m\u001b[43mraw_download\u001b[49m\u001b[43m,\u001b[49m\n\u001b[1;32m   1407\u001b[0m \u001b[43m    \u001b[49m\u001b[43mif_etag_match\u001b[49m\u001b[38;5;241;43m=\u001b[39;49m\u001b[43mif_etag_match\u001b[49m\u001b[43m,\u001b[49m\n\u001b[1;32m   1408\u001b[0m \u001b[43m    \u001b[49m\u001b[43mif_etag_not_match\u001b[49m\u001b[38;5;241;43m=\u001b[39;49m\u001b[43mif_etag_not_match\u001b[49m\u001b[43m,\u001b[49m\n\u001b[1;32m   1409\u001b[0m \u001b[43m    \u001b[49m\u001b[43mif_generation_match\u001b[49m\u001b[38;5;241;43m=\u001b[39;49m\u001b[43mif_generation_match\u001b[49m\u001b[43m,\u001b[49m\n\u001b[1;32m   1410\u001b[0m \u001b[43m    \u001b[49m\u001b[43mif_generation_not_match\u001b[49m\u001b[38;5;241;43m=\u001b[39;49m\u001b[43mif_generation_not_match\u001b[49m\u001b[43m,\u001b[49m\n\u001b[1;32m   1411\u001b[0m \u001b[43m    \u001b[49m\u001b[43mif_metageneration_match\u001b[49m\u001b[38;5;241;43m=\u001b[39;49m\u001b[43mif_metageneration_match\u001b[49m\u001b[43m,\u001b[49m\n\u001b[1;32m   1412\u001b[0m \u001b[43m    \u001b[49m\u001b[43mif_metageneration_not_match\u001b[49m\u001b[38;5;241;43m=\u001b[39;49m\u001b[43mif_metageneration_not_match\u001b[49m\u001b[43m,\u001b[49m\n\u001b[1;32m   1413\u001b[0m \u001b[43m    \u001b[49m\u001b[43mtimeout\u001b[49m\u001b[38;5;241;43m=\u001b[39;49m\u001b[43mtimeout\u001b[49m\u001b[43m,\u001b[49m\n\u001b[1;32m   1414\u001b[0m \u001b[43m    \u001b[49m\u001b[43mchecksum\u001b[49m\u001b[38;5;241;43m=\u001b[39;49m\u001b[43mchecksum\u001b[49m\u001b[43m,\u001b[49m\n\u001b[1;32m   1415\u001b[0m \u001b[43m    \u001b[49m\u001b[43mretry\u001b[49m\u001b[38;5;241;43m=\u001b[39;49m\u001b[43mretry\u001b[49m\u001b[43m,\u001b[49m\n\u001b[1;32m   1416\u001b[0m \u001b[43m\u001b[49m\u001b[43m)\u001b[49m\n\u001b[1;32m   1417\u001b[0m \u001b[38;5;28;01mreturn\u001b[39;00m string_buffer\u001b[38;5;241m.\u001b[39mgetvalue()\n",
      "File \u001b[0;32m/opt/conda/lib/python3.10/site-packages/google/cloud/storage/client.py:1151\u001b[0m, in \u001b[0;36mClient.download_blob_to_file\u001b[0;34m(self, blob_or_uri, file_obj, start, end, raw_download, if_etag_match, if_etag_not_match, if_generation_match, if_generation_not_match, if_metageneration_match, if_metageneration_not_match, timeout, checksum, retry)\u001b[0m\n\u001b[1;32m   1149\u001b[0m transport \u001b[38;5;241m=\u001b[39m \u001b[38;5;28mself\u001b[39m\u001b[38;5;241m.\u001b[39m_http\n\u001b[1;32m   1150\u001b[0m \u001b[38;5;28;01mtry\u001b[39;00m:\n\u001b[0;32m-> 1151\u001b[0m     \u001b[43mblob_or_uri\u001b[49m\u001b[38;5;241;43m.\u001b[39;49m\u001b[43m_do_download\u001b[49m\u001b[43m(\u001b[49m\n\u001b[1;32m   1152\u001b[0m \u001b[43m        \u001b[49m\u001b[43mtransport\u001b[49m\u001b[43m,\u001b[49m\n\u001b[1;32m   1153\u001b[0m \u001b[43m        \u001b[49m\u001b[43mfile_obj\u001b[49m\u001b[43m,\u001b[49m\n\u001b[1;32m   1154\u001b[0m \u001b[43m        \u001b[49m\u001b[43mdownload_url\u001b[49m\u001b[43m,\u001b[49m\n\u001b[1;32m   1155\u001b[0m \u001b[43m        \u001b[49m\u001b[43mheaders\u001b[49m\u001b[43m,\u001b[49m\n\u001b[1;32m   1156\u001b[0m \u001b[43m        \u001b[49m\u001b[43mstart\u001b[49m\u001b[43m,\u001b[49m\n\u001b[1;32m   1157\u001b[0m \u001b[43m        \u001b[49m\u001b[43mend\u001b[49m\u001b[43m,\u001b[49m\n\u001b[1;32m   1158\u001b[0m \u001b[43m        \u001b[49m\u001b[43mraw_download\u001b[49m\u001b[43m,\u001b[49m\n\u001b[1;32m   1159\u001b[0m \u001b[43m        \u001b[49m\u001b[43mtimeout\u001b[49m\u001b[38;5;241;43m=\u001b[39;49m\u001b[43mtimeout\u001b[49m\u001b[43m,\u001b[49m\n\u001b[1;32m   1160\u001b[0m \u001b[43m        \u001b[49m\u001b[43mchecksum\u001b[49m\u001b[38;5;241;43m=\u001b[39;49m\u001b[43mchecksum\u001b[49m\u001b[43m,\u001b[49m\n\u001b[1;32m   1161\u001b[0m \u001b[43m        \u001b[49m\u001b[43mretry\u001b[49m\u001b[38;5;241;43m=\u001b[39;49m\u001b[43mretry\u001b[49m\u001b[43m,\u001b[49m\n\u001b[1;32m   1162\u001b[0m \u001b[43m    \u001b[49m\u001b[43m)\u001b[49m\n\u001b[1;32m   1163\u001b[0m \u001b[38;5;28;01mexcept\u001b[39;00m resumable_media\u001b[38;5;241m.\u001b[39mInvalidResponse \u001b[38;5;28;01mas\u001b[39;00m exc:\n\u001b[1;32m   1164\u001b[0m     _raise_from_invalid_response(exc)\n",
      "File \u001b[0;32m/opt/conda/lib/python3.10/site-packages/google/cloud/storage/blob.py:989\u001b[0m, in \u001b[0;36mBlob._do_download\u001b[0;34m(self, transport, file_obj, download_url, headers, start, end, raw_download, timeout, checksum, retry)\u001b[0m\n\u001b[1;32m    980\u001b[0m     download \u001b[38;5;241m=\u001b[39m klass(\n\u001b[1;32m    981\u001b[0m         download_url,\n\u001b[1;32m    982\u001b[0m         stream\u001b[38;5;241m=\u001b[39mfile_obj,\n\u001b[0;32m   (...)\u001b[0m\n\u001b[1;32m    986\u001b[0m         checksum\u001b[38;5;241m=\u001b[39mchecksum,\n\u001b[1;32m    987\u001b[0m     )\n\u001b[1;32m    988\u001b[0m     download\u001b[38;5;241m.\u001b[39m_retry_strategy \u001b[38;5;241m=\u001b[39m retry_strategy\n\u001b[0;32m--> 989\u001b[0m     response \u001b[38;5;241m=\u001b[39m \u001b[43mdownload\u001b[49m\u001b[38;5;241;43m.\u001b[39;49m\u001b[43mconsume\u001b[49m\u001b[43m(\u001b[49m\u001b[43mtransport\u001b[49m\u001b[43m,\u001b[49m\u001b[43m \u001b[49m\u001b[43mtimeout\u001b[49m\u001b[38;5;241;43m=\u001b[39;49m\u001b[43mtimeout\u001b[49m\u001b[43m)\u001b[49m\n\u001b[1;32m    990\u001b[0m     \u001b[38;5;28mself\u001b[39m\u001b[38;5;241m.\u001b[39m_extract_headers_from_download(response)\n\u001b[1;32m    991\u001b[0m \u001b[38;5;28;01melse\u001b[39;00m:\n",
      "File \u001b[0;32m/opt/conda/lib/python3.10/site-packages/google/resumable_media/requests/download.py:232\u001b[0m, in \u001b[0;36mDownload.consume\u001b[0;34m(self, transport, timeout)\u001b[0m\n\u001b[1;32m    228\u001b[0m         \u001b[38;5;28mself\u001b[39m\u001b[38;5;241m.\u001b[39m_write_to_stream(result)\n\u001b[1;32m    230\u001b[0m     \u001b[38;5;28;01mreturn\u001b[39;00m result\n\u001b[0;32m--> 232\u001b[0m \u001b[38;5;28;01mreturn\u001b[39;00m \u001b[43m_request_helpers\u001b[49m\u001b[38;5;241;43m.\u001b[39;49m\u001b[43mwait_and_retry\u001b[49m\u001b[43m(\u001b[49m\n\u001b[1;32m    233\u001b[0m \u001b[43m    \u001b[49m\u001b[43mretriable_request\u001b[49m\u001b[43m,\u001b[49m\u001b[43m \u001b[49m\u001b[38;5;28;43mself\u001b[39;49m\u001b[38;5;241;43m.\u001b[39;49m\u001b[43m_get_status_code\u001b[49m\u001b[43m,\u001b[49m\u001b[43m \u001b[49m\u001b[38;5;28;43mself\u001b[39;49m\u001b[38;5;241;43m.\u001b[39;49m\u001b[43m_retry_strategy\u001b[49m\n\u001b[1;32m    234\u001b[0m \u001b[43m\u001b[49m\u001b[43m)\u001b[49m\n",
      "File \u001b[0;32m/opt/conda/lib/python3.10/site-packages/google/resumable_media/requests/_request_helpers.py:173\u001b[0m, in \u001b[0;36mwait_and_retry\u001b[0;34m(func, get_status_code, retry_strategy)\u001b[0m\n\u001b[1;32m    170\u001b[0m \u001b[38;5;28;01mif\u001b[39;00m \u001b[38;5;129;01mnot\u001b[39;00m retry_strategy\u001b[38;5;241m.\u001b[39mretry_allowed(total_sleep, num_retries):\n\u001b[1;32m    171\u001b[0m     \u001b[38;5;28;01mraise\u001b[39;00m error\n\u001b[0;32m--> 173\u001b[0m \u001b[43mtime\u001b[49m\u001b[38;5;241;43m.\u001b[39;49m\u001b[43msleep\u001b[49m\u001b[43m(\u001b[49m\u001b[43mwait_time\u001b[49m\u001b[43m)\u001b[49m\n",
      "\u001b[0;31mKeyboardInterrupt\u001b[0m: "
     ]
    }
   ],
   "source": [
    "bucket_file = \"tasks/\" + task_id + \"/metadata.json\"\n",
    "content = download_blob_into_memory(bucket_file)\n",
    "metadata = json.loads(content)\n",
    "draw_images(metadata, f\"tasks/{task_id}/augmentation\", sample=1)"
   ]
  },
  {
   "cell_type": "markdown",
   "id": "01e8b07a",
   "metadata": {},
   "source": [
    "## Inference: \n",
    "\n",
    "Run inference using the FashionNetVgg16NoBn from https://github.com/i008/pytorch-deepfashion.git on the original images in Step 1 or 2."
   ]
  },
  {
   "cell_type": "code",
   "execution_count": 6,
   "id": "3f0eb330",
   "metadata": {
    "scrolled": true
   },
   "outputs": [
    {
     "name": "stdout",
     "output_type": "stream",
     "text": [
      "Processing...\n",
      "SUCCESS\n",
      "Task complete!\n",
      "54385093675011397021\n"
     ]
    }
   ],
   "source": [
    "task_id = perform_task({\"task_id\": task_id}, \"predict\")\n",
    "bucket_file = f\"tasks/{task_id}/predictions.json\"\n",
    "content = download_blob_into_memory(bucket_file)\n",
    "predictions = json.loads(content)\n",
    "\n",
    "print(f\"Number of predictions: {len(predictions)}\")\n",
    "print(\n",
    "    f'Prediction output per image: massive_attr-{len(predictions[0][\"massive_attr\"][0])}, categories-{len(predictions[0][\"categories\"][0])}'\n",
    ")"
   ]
  },
  {
   "cell_type": "code",
   "execution_count": null,
   "id": "e203c2b9-6650-44a2-a47d-af6d5874efc3",
   "metadata": {},
   "outputs": [],
   "source": []
  }
 ],
 "metadata": {
  "kernelspec": {
   "display_name": "Python 3 (ipykernel)",
   "language": "python",
   "name": "python3"
  },
  "language_info": {
   "codemirror_mode": {
    "name": "ipython",
    "version": 3
   },
   "file_extension": ".py",
   "mimetype": "text/x-python",
   "name": "python",
   "nbconvert_exporter": "python",
   "pygments_lexer": "ipython3",
   "version": "3.10.6"
  },
  "vscode": {
   "interpreter": {
    "hash": "376c196df12dbd10bb0c9c14d1a93e772c1c3a99b545be96c436976bf7c8d145"
   }
  }
 },
 "nbformat": 4,
 "nbformat_minor": 5
}
